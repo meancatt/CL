{
 "cells": [
  {
   "cell_type": "markdown",
   "metadata": {},
   "source": [
    "## Данные\n",
    "\n",
    "Скачиваются по [ссылке](https://drive.google.com/open?id=1gJEpwM3zdV5xe9nRU0VwQmGTiOTQdp10). Это отзывы пользователей на фильмы с КиноПоиска."
   ]
  },
  {
   "cell_type": "code",
   "execution_count": 1,
   "metadata": {},
   "outputs": [],
   "source": [
    "import pandas as pd"
   ]
  },
  {
   "cell_type": "code",
   "execution_count": 2,
   "metadata": {},
   "outputs": [],
   "source": [
    "df = pd.read_csv('reviews.csv')"
   ]
  },
  {
   "cell_type": "code",
   "execution_count": 12,
   "metadata": {},
   "outputs": [
    {
     "data": {
      "text/html": [
       "<div>\n",
       "<style scoped>\n",
       "    .dataframe tbody tr th:only-of-type {\n",
       "        vertical-align: middle;\n",
       "    }\n",
       "\n",
       "    .dataframe tbody tr th {\n",
       "        vertical-align: top;\n",
       "    }\n",
       "\n",
       "    .dataframe thead th {\n",
       "        text-align: right;\n",
       "    }\n",
       "</style>\n",
       "<table border=\"1\" class=\"dataframe\">\n",
       "  <thead>\n",
       "    <tr style=\"text-align: right;\">\n",
       "      <th></th>\n",
       "      <th>label</th>\n",
       "      <th>text</th>\n",
       "    </tr>\n",
       "  </thead>\n",
       "  <tbody>\n",
       "    <tr>\n",
       "      <th>0</th>\n",
       "      <td>1</td>\n",
       "      <td>Эпиграф Добро которое ты делаешь от сердца ты ...</td>\n",
       "    </tr>\n",
       "    <tr>\n",
       "      <th>1</th>\n",
       "      <td>1</td>\n",
       "      <td>Теперь это один из моих любимых фильмов в жанр...</td>\n",
       "    </tr>\n",
       "    <tr>\n",
       "      <th>2</th>\n",
       "      <td>1</td>\n",
       "      <td>Что скрыто в фильме Лучше не бывает Одна шикар...</td>\n",
       "    </tr>\n",
       "    <tr>\n",
       "      <th>3</th>\n",
       "      <td>1</td>\n",
       "      <td>Перед нами очень милое и доброе кино которое л...</td>\n",
       "    </tr>\n",
       "    <tr>\n",
       "      <th>4</th>\n",
       "      <td>1</td>\n",
       "      <td>Завязка Мелвин Удал популярный писатель Нет не...</td>\n",
       "    </tr>\n",
       "  </tbody>\n",
       "</table>\n",
       "</div>"
      ],
      "text/plain": [
       "   label                                               text\n",
       "0      1  Эпиграф Добро которое ты делаешь от сердца ты ...\n",
       "1      1  Теперь это один из моих любимых фильмов в жанр...\n",
       "2      1  Что скрыто в фильме Лучше не бывает Одна шикар...\n",
       "3      1  Перед нами очень милое и доброе кино которое л...\n",
       "4      1  Завязка Мелвин Удал популярный писатель Нет не..."
      ]
     },
     "execution_count": 12,
     "metadata": {},
     "output_type": "execute_result"
    }
   ],
   "source": [
    "df.head()"
   ]
  },
  {
   "cell_type": "code",
   "execution_count": 4,
   "metadata": {},
   "outputs": [
    {
     "data": {
      "text/plain": [
       "{-1, 0, 1}"
      ]
     },
     "execution_count": 4,
     "metadata": {},
     "output_type": "execute_result"
    }
   ],
   "source": [
    "set(df.label)"
   ]
  },
  {
   "cell_type": "markdown",
   "metadata": {},
   "source": [
    "## Baseline"
   ]
  },
  {
   "cell_type": "code",
   "execution_count": 3,
   "metadata": {},
   "outputs": [],
   "source": [
    "from sklearn.naive_bayes import MultinomialNB\n",
    "from sklearn.model_selection import train_test_split\n",
    "from sklearn.feature_extraction.text import CountVectorizer"
   ]
  },
  {
   "cell_type": "code",
   "execution_count": 6,
   "metadata": {},
   "outputs": [],
   "source": [
    "vec = CountVectorizer()\n",
    "bag_of_words = vec.fit_transform(df.text)\n",
    "X_train, X_test, y_train, y_test = train_test_split(bag_of_words, df.label)"
   ]
  },
  {
   "cell_type": "code",
   "execution_count": 7,
   "metadata": {},
   "outputs": [],
   "source": [
    "nb = MultinomialNB()\n",
    "clf = nb.fit(X_train, y_train)"
   ]
  },
  {
   "cell_type": "code",
   "execution_count": 4,
   "metadata": {},
   "outputs": [],
   "source": [
    "from sklearn.metrics import classification_report"
   ]
  },
  {
   "cell_type": "code",
   "execution_count": 9,
   "metadata": {},
   "outputs": [
    {
     "name": "stdout",
     "output_type": "stream",
     "text": [
      "              precision    recall  f1-score   support\n",
      "\n",
      "          -1       0.70      0.22      0.34      1112\n",
      "           0       0.34      0.07      0.12      1395\n",
      "           1       0.82      0.98      0.89      9119\n",
      "\n",
      "    accuracy                           0.80     11626\n",
      "   macro avg       0.62      0.43      0.45     11626\n",
      "weighted avg       0.75      0.80      0.75     11626\n",
      "\n"
     ]
    }
   ],
   "source": [
    "print(classification_report(y_test, clf.predict(X_test)))"
   ]
  },
  {
   "cell_type": "markdown",
   "metadata": {},
   "source": [
    "### Лемматизируем тексты с правильной токенизацией"
   ]
  },
  {
   "cell_type": "code",
   "execution_count": 5,
   "metadata": {},
   "outputs": [],
   "source": [
    "from nltk import word_tokenize\n",
    "import pymorphy2\n",
    "morph_analyzer = pymorphy2.MorphAnalyzer()\n",
    "\n",
    "def lemmatize(text):\n",
    "    words = word_tokenize(text)\n",
    "    lemmas = [morph_analyzer.parse(word)[0].normal_form for word in words] \n",
    "    return ' '.join(lemmas)"
   ]
  },
  {
   "cell_type": "code",
   "execution_count": 13,
   "metadata": {},
   "outputs": [],
   "source": [
    "df['text_lemmatized'] = df['text'].apply(lemmatize)"
   ]
  },
  {
   "cell_type": "markdown",
   "metadata": {},
   "source": [
    "### Проверим, повлияла ли предобработка на результат"
   ]
  },
  {
   "cell_type": "code",
   "execution_count": 9,
   "metadata": {},
   "outputs": [
    {
     "name": "stdout",
     "output_type": "stream",
     "text": [
      "              precision    recall  f1-score   support\n",
      "\n",
      "          -1       0.58      0.51      0.55      1104\n",
      "           0       0.34      0.22      0.27      1485\n",
      "           1       0.87      0.93      0.90      9037\n",
      "\n",
      "    accuracy                           0.80     11626\n",
      "   macro avg       0.60      0.56      0.57     11626\n",
      "weighted avg       0.77      0.80      0.78     11626\n",
      "\n"
     ]
    }
   ],
   "source": [
    "vec = CountVectorizer()\n",
    "bow = vec.fit_transform(df.text_lemmatized)\n",
    "X_train, X_test, y_train, y_test = train_test_split(bow, df.label)\n",
    "\n",
    "nb = MultinomialNB()\n",
    "clf = nb.fit(X_train, y_train)\n",
    "\n",
    "print(classification_report(y_test, clf.predict(X_test)))"
   ]
  },
  {
   "cell_type": "markdown",
   "metadata": {},
   "source": [
    "Результат в целом улучшился, но у отрицательных отзывов, которых в корпусе мало, упала точность. Попробуем добавить другие способы предобработки."
   ]
  },
  {
   "cell_type": "markdown",
   "metadata": {},
   "source": [
    "### Уберем стоп-слова и пунктуацию"
   ]
  },
  {
   "cell_type": "code",
   "execution_count": 10,
   "metadata": {},
   "outputs": [
    {
     "name": "stdout",
     "output_type": "stream",
     "text": [
      "              precision    recall  f1-score   support\n",
      "\n",
      "          -1       0.61      0.49      0.54      1101\n",
      "           0       0.33      0.24      0.28      1398\n",
      "           1       0.87      0.93      0.90      9127\n",
      "\n",
      "    accuracy                           0.81     11626\n",
      "   macro avg       0.60      0.56      0.58     11626\n",
      "weighted avg       0.78      0.81      0.79     11626\n",
      "\n"
     ]
    }
   ],
   "source": [
    "from nltk.corpus import stopwords\n",
    "from string import punctuation\n",
    "\n",
    "noise = stopwords.words('russian') + list(punctuation)\n",
    "\n",
    "vec = CountVectorizer(stop_words=noise)\n",
    "bow = vec.fit_transform(df.text_lemmatized)\n",
    "X_train, X_test, y_train, y_test = train_test_split(bow, df.label)\n",
    "\n",
    "nb = MultinomialNB()\n",
    "clf = nb.fit(X_train, y_train)\n",
    "\n",
    "print(classification_report(y_test, clf.predict(X_test)))"
   ]
  },
  {
   "cell_type": "markdown",
   "metadata": {},
   "source": [
    "F-мера и точность выросли и по сравнению с предыдущим вариантом, и по сравнению с baseline, но точность для негативных отзывов все еще низкая. Также немного снизилась точность для нейтральных отзывов. Посмотрим, что будет, если убрать только пунктуацию или только стоп-слова."
   ]
  },
  {
   "cell_type": "markdown",
   "metadata": {},
   "source": [
    "### Убираем только стоп-слова"
   ]
  },
  {
   "cell_type": "code",
   "execution_count": 25,
   "metadata": {},
   "outputs": [
    {
     "name": "stdout",
     "output_type": "stream",
     "text": [
      "              precision    recall  f1-score   support\n",
      "\n",
      "          -1       0.61      0.51      0.55      1060\n",
      "           0       0.34      0.21      0.26      1415\n",
      "           1       0.87      0.94      0.90      9151\n",
      "\n",
      "    accuracy                           0.81     11626\n",
      "   macro avg       0.60      0.55      0.57     11626\n",
      "weighted avg       0.78      0.81      0.79     11626\n",
      "\n"
     ]
    }
   ],
   "source": [
    "noise = stopwords.words('russian')\n",
    "\n",
    "vec = CountVectorizer(stop_words=noise)\n",
    "bow = vec.fit_transform(df.text_lemmatized)\n",
    "X_train, X_test, y_train, y_test = train_test_split(bow, df.label)\n",
    "\n",
    "nb = MultinomialNB()\n",
    "clf = nb.fit(X_train, y_train)\n",
    "\n",
    "print(classification_report(y_test, clf.predict(X_test)))"
   ]
  },
  {
   "cell_type": "markdown",
   "metadata": {},
   "source": [
    "### Убираем только пунктуацию"
   ]
  },
  {
   "cell_type": "code",
   "execution_count": 31,
   "metadata": {},
   "outputs": [
    {
     "name": "stdout",
     "output_type": "stream",
     "text": [
      "              precision    recall  f1-score   support\n",
      "\n",
      "          -1       0.61      0.51      0.56      1103\n",
      "           0       0.34      0.26      0.29      1352\n",
      "           1       0.88      0.93      0.91      9171\n",
      "\n",
      "    accuracy                           0.81     11626\n",
      "   macro avg       0.61      0.57      0.59     11626\n",
      "weighted avg       0.79      0.81      0.80     11626\n",
      "\n"
     ]
    }
   ],
   "source": [
    "noise = list(punctuation)\n",
    "\n",
    "vec = CountVectorizer(stop_words=noise)\n",
    "bow = vec.fit_transform(df.text_lemmatized)\n",
    "X_train, X_test, y_train, y_test = train_test_split(bow, df.label)\n",
    "\n",
    "nb = MultinomialNB()\n",
    "clf = nb.fit(X_train, y_train)\n",
    "\n",
    "print(classification_report(y_test, clf.predict(X_test)))"
   ]
  },
  {
   "cell_type": "markdown",
   "metadata": {},
   "source": [
    "Кажется, стоп-слова лучше не убирать."
   ]
  },
  {
   "cell_type": "markdown",
   "metadata": {},
   "source": [
    "### Попробуем другие классификаторы"
   ]
  },
  {
   "cell_type": "code",
   "execution_count": 15,
   "metadata": {},
   "outputs": [],
   "source": [
    "from sklearn.linear_model import LogisticRegression"
   ]
  },
  {
   "cell_type": "code",
   "execution_count": 10,
   "metadata": {},
   "outputs": [
    {
     "name": "stderr",
     "output_type": "stream",
     "text": [
      "C:\\Users\\User\\Anaconda3\\lib\\site-packages\\sklearn\\linear_model\\logistic.py:432: FutureWarning: Default solver will be changed to 'lbfgs' in 0.22. Specify a solver to silence this warning.\n",
      "  FutureWarning)\n",
      "C:\\Users\\User\\Anaconda3\\lib\\site-packages\\sklearn\\linear_model\\logistic.py:469: FutureWarning: Default multi_class will be changed to 'auto' in 0.22. Specify the multi_class option to silence this warning.\n",
      "  \"this warning.\", FutureWarning)\n"
     ]
    },
    {
     "name": "stdout",
     "output_type": "stream",
     "text": [
      "              precision    recall  f1-score   support\n",
      "\n",
      "          -1       0.62      0.55      0.59      1065\n",
      "           0       0.36      0.28      0.32      1408\n",
      "           1       0.89      0.93      0.91      9153\n",
      "\n",
      "    accuracy                           0.82     11626\n",
      "   macro avg       0.63      0.59      0.61     11626\n",
      "weighted avg       0.80      0.82      0.81     11626\n",
      "\n"
     ]
    }
   ],
   "source": [
    "noise = list(punctuation)\n",
    "\n",
    "vec = CountVectorizer(stop_words=noise)\n",
    "bow = vec.fit_transform(df.text_lemmatized)\n",
    "X_train, X_test, y_train, y_test = train_test_split(bow, df.label)\n",
    "\n",
    "lr = LogisticRegression()\n",
    "clf = lr.fit(X_train, y_train)\n",
    "\n",
    "print(classification_report(y_test, clf.predict(X_test)))"
   ]
  },
  {
   "cell_type": "markdown",
   "metadata": {},
   "source": [
    "Логистическая регрессия справляется явно лучше, чем Наивный Байес. Что, если мы возьмем логистическую регрессию с TF-IDF векторизатором?"
   ]
  },
  {
   "cell_type": "code",
   "execution_count": 11,
   "metadata": {},
   "outputs": [],
   "source": [
    "from sklearn.feature_extraction.text import TfidfVectorizer"
   ]
  },
  {
   "cell_type": "code",
   "execution_count": 23,
   "metadata": {},
   "outputs": [
    {
     "name": "stderr",
     "output_type": "stream",
     "text": [
      "C:\\Users\\User\\Anaconda3\\lib\\site-packages\\sklearn\\linear_model\\logistic.py:432: FutureWarning: Default solver will be changed to 'lbfgs' in 0.22. Specify a solver to silence this warning.\n",
      "  FutureWarning)\n",
      "C:\\Users\\User\\Anaconda3\\lib\\site-packages\\sklearn\\linear_model\\logistic.py:469: FutureWarning: Default multi_class will be changed to 'auto' in 0.22. Specify the multi_class option to silence this warning.\n",
      "  \"this warning.\", FutureWarning)\n"
     ]
    },
    {
     "name": "stdout",
     "output_type": "stream",
     "text": [
      "              precision    recall  f1-score   support\n",
      "\n",
      "          -1       0.74      0.46      0.57      1047\n",
      "           0       0.56      0.11      0.18      1414\n",
      "           1       0.85      0.99      0.91      9165\n",
      "\n",
      "    accuracy                           0.84     11626\n",
      "   macro avg       0.71      0.52      0.55     11626\n",
      "weighted avg       0.80      0.84      0.79     11626\n",
      "\n"
     ]
    }
   ],
   "source": [
    "noise = list(punctuation)\n",
    "\n",
    "vec = TfidfVectorizer(min_df=1, max_df=0.99, stop_words=noise)\n",
    "bow = vec.fit_transform(df.text_lemmatized)\n",
    "X_train, X_test, y_train, y_test = train_test_split(bow, df.label)\n",
    "\n",
    "lr = LogisticRegression()\n",
    "clf = lr.fit(X_train, y_train)\n",
    "\n",
    "print(classification_report(y_test, clf.predict(X_test)))"
   ]
  },
  {
   "cell_type": "markdown",
   "metadata": {},
   "source": [
    "Даже при крайних значениях max_df, min_df F-мера падает из-за низкого показателя полноты для нейтральных отзывов. Видимо, частые слова, которые выкидывает TF-IDF, являются характерными именно для нейтральных отзывов, т.к. эмоционально окрашенных слов, которые встречаются редко и характеризуют позитивные и негативные отзывы, в нейтральных отзывах мало. По этой же причине TF-IDF точнее определяет негативные отзывы. \n",
    "\n",
    "Оставим CountVectorizer, но попробуем поменять гиперпараметры модели."
   ]
  },
  {
   "cell_type": "code",
   "execution_count": 10,
   "metadata": {},
   "outputs": [],
   "source": [
    "from sklearn.model_selection import GridSearchCV"
   ]
  },
  {
   "cell_type": "code",
   "execution_count": 26,
   "metadata": {},
   "outputs": [
    {
     "name": "stderr",
     "output_type": "stream",
     "text": [
      "C:\\Users\\User\\Anaconda3\\lib\\site-packages\\sklearn\\model_selection\\_split.py:1978: FutureWarning: The default value of cv will change from 3 to 5 in version 0.22. Specify it explicitly to silence this warning.\n",
      "  warnings.warn(CV_WARNING, FutureWarning)\n",
      "C:\\Users\\User\\Anaconda3\\lib\\site-packages\\sklearn\\linear_model\\logistic.py:432: FutureWarning: Default solver will be changed to 'lbfgs' in 0.22. Specify a solver to silence this warning.\n",
      "  FutureWarning)\n",
      "C:\\Users\\User\\Anaconda3\\lib\\site-packages\\sklearn\\linear_model\\logistic.py:469: FutureWarning: Default multi_class will be changed to 'auto' in 0.22. Specify the multi_class option to silence this warning.\n",
      "  \"this warning.\", FutureWarning)\n"
     ]
    },
    {
     "data": {
      "text/plain": [
       "GridSearchCV(cv='warn', error_score='raise-deprecating',\n",
       "             estimator=LogisticRegression(C=1.0, class_weight=None, dual=False,\n",
       "                                          fit_intercept=True,\n",
       "                                          intercept_scaling=1, l1_ratio=None,\n",
       "                                          max_iter=100, multi_class='warn',\n",
       "                                          n_jobs=None, penalty='l2',\n",
       "                                          random_state=None, solver='warn',\n",
       "                                          tol=0.0001, verbose=0,\n",
       "                                          warm_start=False),\n",
       "             iid='warn', n_jobs=None,\n",
       "             param_grid={'C': [0.001, 0.009, 0.01, 0.09, 1, 5, 10, 25],\n",
       "                         'penalty': ['l1', 'l2']},\n",
       "             pre_dispatch='2*n_jobs', refit=True, return_train_score=False,\n",
       "             scoring=None, verbose=0)"
      ]
     },
     "execution_count": 26,
     "metadata": {},
     "output_type": "execute_result"
    }
   ],
   "source": [
    "grid_values = {'penalty': ['l1', 'l2'],'C':[0.001,.009,0.01,.09,1,5,10,25]}\n",
    "grid_clf_acc = GridSearchCV(clf, param_grid = grid_values)\n",
    "grid_clf_acc.fit(X_train, y_train)"
   ]
  },
  {
   "cell_type": "code",
   "execution_count": 27,
   "metadata": {},
   "outputs": [
    {
     "name": "stderr",
     "output_type": "stream",
     "text": [
      "C:\\Users\\User\\Anaconda3\\lib\\site-packages\\sklearn\\linear_model\\logistic.py:432: FutureWarning: Default solver will be changed to 'lbfgs' in 0.22. Specify a solver to silence this warning.\n",
      "  FutureWarning)\n",
      "C:\\Users\\User\\Anaconda3\\lib\\site-packages\\sklearn\\linear_model\\logistic.py:469: FutureWarning: Default multi_class will be changed to 'auto' in 0.22. Specify the multi_class option to silence this warning.\n",
      "  \"this warning.\", FutureWarning)\n"
     ]
    },
    {
     "name": "stdout",
     "output_type": "stream",
     "text": [
      "              precision    recall  f1-score   support\n",
      "\n",
      "          -1       0.64      0.57      0.60      1094\n",
      "           0       0.36      0.26      0.30      1424\n",
      "           1       0.89      0.94      0.91      9108\n",
      "\n",
      "    accuracy                           0.82     11626\n",
      "   macro avg       0.63      0.59      0.60     11626\n",
      "weighted avg       0.80      0.82      0.81     11626\n",
      "\n"
     ]
    }
   ],
   "source": [
    "noise = list(punctuation)\n",
    "\n",
    "vec = CountVectorizer(stop_words=noise)\n",
    "bow = vec.fit_transform(df.text_lemmatized)\n",
    "X_train, X_test, y_train, y_test = train_test_split(bow, df.label)\n",
    "\n",
    "lr = LogisticRegression(C=1, penalty='l2')\n",
    "clf = lr.fit(X_train, y_train)\n",
    "\n",
    "print(classification_report(y_test, clf.predict(X_test)))"
   ]
  },
  {
   "cell_type": "markdown",
   "metadata": {},
   "source": [
    "Ощутимых улучшений по сравнению с моделью без регуляризации нет."
   ]
  },
  {
   "cell_type": "markdown",
   "metadata": {},
   "source": [
    "### Попробуем kNN"
   ]
  },
  {
   "cell_type": "code",
   "execution_count": 7,
   "metadata": {},
   "outputs": [],
   "source": [
    "from sklearn.neighbors import KNeighborsClassifier"
   ]
  },
  {
   "cell_type": "code",
   "execution_count": 9,
   "metadata": {},
   "outputs": [
    {
     "name": "stdout",
     "output_type": "stream",
     "text": [
      "              precision    recall  f1-score   support\n",
      "\n",
      "          -1       0.32      0.08      0.13      1088\n",
      "           0       0.19      0.09      0.12      1405\n",
      "           1       0.80      0.94      0.87      9133\n",
      "\n",
      "    accuracy                           0.76     11626\n",
      "   macro avg       0.44      0.37      0.37     11626\n",
      "weighted avg       0.68      0.76      0.71     11626\n",
      "\n"
     ]
    }
   ],
   "source": [
    "noise = list(punctuation)\n",
    "vec = CountVectorizer(stop_words=noise)\n",
    "bow = vec.fit_transform(df.text_lemmatized)\n",
    "X_train, X_test, y_train, y_test = train_test_split(bow, df.label)\n",
    "\n",
    "knn = KNeighborsClassifier()\n",
    "clf = knn.fit(X_train, y_train)\n",
    "print(classification_report(y_test, clf.predict(X_test)))"
   ]
  },
  {
   "cell_type": "markdown",
   "metadata": {},
   "source": [
    "С дефолтными параметрами kNN работает хуже логистической регрессии. Попробуем подобрать другое число соседей."
   ]
  },
  {
   "cell_type": "code",
   "execution_count": 11,
   "metadata": {},
   "outputs": [
    {
     "name": "stderr",
     "output_type": "stream",
     "text": [
      "C:\\Users\\User\\Anaconda3\\lib\\site-packages\\sklearn\\model_selection\\_split.py:1978: FutureWarning: The default value of cv will change from 3 to 5 in version 0.22. Specify it explicitly to silence this warning.\n",
      "  warnings.warn(CV_WARNING, FutureWarning)\n"
     ]
    },
    {
     "data": {
      "text/plain": [
       "GridSearchCV(cv='warn', error_score='raise-deprecating',\n",
       "             estimator=KNeighborsClassifier(algorithm='auto', leaf_size=30,\n",
       "                                            metric='minkowski',\n",
       "                                            metric_params=None, n_jobs=None,\n",
       "                                            n_neighbors=5, p=2,\n",
       "                                            weights='uniform'),\n",
       "             iid='warn', n_jobs=None,\n",
       "             param_grid={'n_neighbors': [1, 2, 3, 4, 5, 6, 7]},\n",
       "             pre_dispatch='2*n_jobs', refit=True, return_train_score=False,\n",
       "             scoring=None, verbose=0)"
      ]
     },
     "execution_count": 11,
     "metadata": {},
     "output_type": "execute_result"
    }
   ],
   "source": [
    "grid_values = {'n_neighbors': list(range(1, 8))}\n",
    "grid_clf_acc = GridSearchCV(clf, param_grid = grid_values)\n",
    "grid_clf_acc.fit(X_train, y_train)"
   ]
  },
  {
   "cell_type": "markdown",
   "metadata": {},
   "source": [
    "Оказывается, дефолтное значение n_neighbors было оптимальным."
   ]
  },
  {
   "cell_type": "markdown",
   "metadata": {},
   "source": [
    "### Попробуем дерево решений"
   ]
  },
  {
   "cell_type": "code",
   "execution_count": 12,
   "metadata": {},
   "outputs": [],
   "source": [
    "from sklearn.tree import DecisionTreeClassifier"
   ]
  },
  {
   "cell_type": "code",
   "execution_count": 13,
   "metadata": {},
   "outputs": [
    {
     "name": "stdout",
     "output_type": "stream",
     "text": [
      "              precision    recall  f1-score   support\n",
      "\n",
      "          -1       0.24      0.22      0.23      1088\n",
      "           0       0.19      0.17      0.18      1405\n",
      "           1       0.83      0.85      0.84      9133\n",
      "\n",
      "    accuracy                           0.71     11626\n",
      "   macro avg       0.42      0.41      0.42     11626\n",
      "weighted avg       0.70      0.71      0.70     11626\n",
      "\n"
     ]
    }
   ],
   "source": [
    "decision_tree = DecisionTreeClassifier()\n",
    "clf = decision_tree.fit(X_train, y_train)\n",
    "print(classification_report(y_test, clf.predict(X_test)))"
   ]
  },
  {
   "cell_type": "markdown",
   "metadata": {},
   "source": [
    "Дерево решений тоже не помогло побить baseline. \n",
    "\n",
    "В целом, baseline удается побить разными видами предобработки и использованием логистической регрессии. Дерево решений и kNN с задачей не справились. \n",
    "\n",
    "**Лучший результат показала логистическая регрессия на лемматизированных текстах, векторизованных с помощью CountVectorizer, без пунктуации.** "
   ]
  },
  {
   "cell_type": "markdown",
   "metadata": {},
   "source": [
    "Посмотрим, какие веса были у этой модели."
   ]
  },
  {
   "cell_type": "code",
   "execution_count": 16,
   "metadata": {},
   "outputs": [
    {
     "name": "stderr",
     "output_type": "stream",
     "text": [
      "C:\\Users\\User\\Anaconda3\\lib\\site-packages\\sklearn\\linear_model\\logistic.py:432: FutureWarning: Default solver will be changed to 'lbfgs' in 0.22. Specify a solver to silence this warning.\n",
      "  FutureWarning)\n",
      "C:\\Users\\User\\Anaconda3\\lib\\site-packages\\sklearn\\linear_model\\logistic.py:469: FutureWarning: Default multi_class will be changed to 'auto' in 0.22. Specify the multi_class option to silence this warning.\n",
      "  \"this warning.\", FutureWarning)\n"
     ]
    },
    {
     "name": "stdout",
     "output_type": "stream",
     "text": [
      "              precision    recall  f1-score   support\n",
      "\n",
      "          -1       0.63      0.54      0.58      1088\n",
      "           0       0.35      0.27      0.30      1405\n",
      "           1       0.89      0.93      0.91      9133\n",
      "\n",
      "    accuracy                           0.82     11626\n",
      "   macro avg       0.62      0.58      0.60     11626\n",
      "weighted avg       0.80      0.82      0.81     11626\n",
      "\n"
     ]
    }
   ],
   "source": [
    "lr = LogisticRegression()\n",
    "clf = lr.fit(X_train, y_train)\n",
    "\n",
    "print(classification_report(y_test, clf.predict(X_test)))"
   ]
  },
  {
   "cell_type": "code",
   "execution_count": 33,
   "metadata": {},
   "outputs": [],
   "source": [
    "top_features = sorted(enumerate(clf.coef_[0]), key=lambda pair: pair[1], reverse=True)[:20]\n",
    "indx_to_word = {indx: word for word, indx in vec.vocabulary_.items()}"
   ]
  },
  {
   "cell_type": "code",
   "execution_count": 34,
   "metadata": {},
   "outputs": [
    {
     "name": "stdout",
     "output_type": "stream",
     "text": [
      "бредовый\n",
      "фальшивый\n",
      "обидный\n",
      "скучно\n",
      "разочаровать\n",
      "толерантность\n",
      "унылый\n",
      "невнятный\n",
      "самолюбие\n",
      "пропаганда\n",
      "разочарование\n",
      "скучный\n",
      "союзник\n",
      "пародия\n",
      "потратить\n",
      "приквёлый\n",
      "видимо\n",
      "потуга\n",
      "неудачный\n",
      "отвратительный\n"
     ]
    }
   ],
   "source": [
    "word_to_num = {}\n",
    "for top_feature in top_features:\n",
    "    print(indx_to_word[top_feature[0]])\n",
    "    word_to_num[indx_to_word[top_feature[0]]] = top_feature[1]"
   ]
  },
  {
   "cell_type": "markdown",
   "metadata": {},
   "source": [
    "### Топ-20 признаков по значимости"
   ]
  },
  {
   "cell_type": "code",
   "execution_count": 51,
   "metadata": {},
   "outputs": [
    {
     "data": {
      "image/png": "[encoded data removed]",
      "text/plain": [
       "<Figure size 432x288 with 1 Axes>"
      ]
     },
     "metadata": {},
     "output_type": "display_data"
    }
   ],
   "source": [
    "import seaborn as sns\n",
    "\n",
    "plot = sns.barplot(list(word_to_num.keys()), list(word_to_num.values()), color = 'g')\n",
    "for item in plot.get_xticklabels():\n",
    "    item.set_rotation(70)"
   ]
  },
  {
   "cell_type": "markdown",
   "metadata": {},
   "source": [
    "Интересно, что в топе самых значимых признаков оказалось много негативно окрашенных слов. Здесь есть еще и нейтральные слова (например, \"видимо\"), которые мы изначально отнесли к числу стоп-слов (тогда логично, что удаление стоп-слов ухудшило результаты)."
   ]
  },
  {
   "cell_type": "markdown",
   "metadata": {},
   "source": [
    "### Посмотрим на confusion matrix"
   ]
  },
  {
   "cell_type": "code",
   "execution_count": 54,
   "metadata": {},
   "outputs": [],
   "source": [
    "from sklearn.metrics import confusion_matrix"
   ]
  },
  {
   "cell_type": "code",
   "execution_count": 83,
   "metadata": {},
   "outputs": [
    {
     "name": "stderr",
     "output_type": "stream",
     "text": [
      "C:\\Users\\User\\Anaconda3\\lib\\site-packages\\sklearn\\linear_model\\logistic.py:432: FutureWarning: Default solver will be changed to 'lbfgs' in 0.22. Specify a solver to silence this warning.\n",
      "  FutureWarning)\n",
      "C:\\Users\\User\\Anaconda3\\lib\\site-packages\\sklearn\\linear_model\\logistic.py:469: FutureWarning: Default multi_class will be changed to 'auto' in 0.22. Specify the multi_class option to silence this warning.\n",
      "  \"this warning.\", FutureWarning)\n"
     ]
    },
    {
     "data": {
      "image/png": "[encoded data removed]",
      "text/plain": [
       "<Figure size 432x288 with 1 Axes>"
      ]
     },
     "metadata": {
      "needs_background": "light"
     },
     "output_type": "display_data"
    }
   ],
   "source": [
    "y_pred_lemm = clf.fit(X_train, y_train).predict(X_test)\n",
    "\n",
    "def plot_confusion_matrix(y_pred, title):\n",
    "    categories = ['-1', '0', '1']\n",
    "    sns.heatmap(data=confusion_matrix(y_test, y_pred), cmap=\"YlGnBu\",\n",
    "                annot=True, fmt=\"d\", cbar=False, xticklabels=categories, yticklabels=categories)\n",
    "    plt.title(title)\n",
    "    plt.ylabel('Actual label')\n",
    "    plt.xlabel('Predicted label')\n",
    "    plt.show()\n",
    "\n",
    "\n",
    "plot_confusion_matrix(y_pred_lemm, 'Confusion matrix') "
   ]
  },
  {
   "cell_type": "markdown",
   "metadata": {},
   "source": [
    "По этой визуализации заметна проблема модели: позитивные отзывы часто путаются с нейтральными."
   ]
  },
  {
   "cell_type": "markdown",
   "metadata": {},
   "source": [
    "+См. визуализацию признаков чуть выше."
   ]
  }
 ],
 "metadata": {
  "kernelspec": {
   "display_name": "Python 3",
   "language": "python",
   "name": "python3"
  },
  "language_info": {
   "codemirror_mode": {
    "name": "ipython",
    "version": 3
   },
   "file_extension": ".py",
   "mimetype": "text/x-python",
   "name": "python",
   "nbconvert_exporter": "python",
   "pygments_lexer": "ipython3",
   "version": "3.7.0"
  }
 },
 "nbformat": 4,
 "nbformat_minor": 2
}
