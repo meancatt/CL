{
 "cells": [
  {
   "cell_type": "code",
   "execution_count": 1,
   "metadata": {},
   "outputs": [],
   "source": [
    "# задание 1\n",
    "# какие из этих строк можно конкатенировать? Какие умножать? Какие вычитать? Запишите все результаты, которые у Вас получились\n",
    "a = 23\n",
    "b = 34.02\n",
    "c = \"python is cool\"\n",
    "d = \"you are cool, too\"\n",
    "\n",
    "# a и b - не строки\n",
    "print('c + d = ', c + d) # c и d можно конкатенировать\n",
    "print('c * a = ', c * a, '\\nd * a = ', d * a) # c и d можно умножить на целое число"
   ]
  },
  {
   "cell_type": "code",
   "execution_count": 2,
   "metadata": {},
   "outputs": [
    {
     "name": "stdout",
     "output_type": "stream",
     "text": [
      "string1string2string3 string1string1string1\n"
     ]
    }
   ],
   "source": [
    "# задание 2\n",
    "# Придумайте такую строку (на любом знакомом Вам языке),чтобы она состояла из трех других (повторы строки разрешены).\n",
    "# Напишите код. Если вы можете сделать это более, чем одним способом, напишите все способы\n",
    "a = 'string1'\n",
    "b = 'string2'\n",
    "c = 'string3'\n",
    "print(a + b + c, a * 3)"
   ]
  },
  {
   "cell_type": "code",
   "execution_count": 3,
   "metadata": {},
   "outputs": [
    {
     "data": {
      "text/plain": [
       "'спаниель'"
      ]
     },
     "execution_count": 3,
     "metadata": {},
     "output_type": "execute_result"
    }
   ],
   "source": [
    "# задание 3\n",
    "# Как из слова \"апельсин\" сделать слово \"спаниель\" ? \n",
    "# Подсказка: вам помогут срезы и операции с индексами\n",
    "orange = 'апельсин'\n",
    "spaniel = orange[-3] + orange[-7:-9:-1] + orange[7:5:-1] + orange[2:5]\n",
    "spaniel"
   ]
  },
  {
   "cell_type": "code",
   "execution_count": 4,
   "metadata": {},
   "outputs": [
    {
     "name": "stdout",
     "output_type": "stream",
     "text": [
      "noel sees leon,wow\n"
     ]
    }
   ],
   "source": [
    "# задание 4 (выполняется по желанию)\n",
    "# элементы в переменной text преобразуйте в нижний регистр, а затем запишите наоборот, с последнего элемента по первый\n",
    "text = \"WOW,NOEL SEES LEON\"\n",
    "print(text.lower()[::-1])"
   ]
  }
 ],
 "metadata": {
  "kernelspec": {
   "display_name": "Python 3",
   "language": "python",
   "name": "python3"
  },
  "language_info": {
   "codemirror_mode": {
    "name": "ipython",
    "version": 3
   },
   "file_extension": ".py",
   "mimetype": "text/x-python",
   "name": "python",
   "nbconvert_exporter": "python",
   "pygments_lexer": "ipython3",
   "version": "3.7.0"
  }
 },
 "nbformat": 4,
 "nbformat_minor": 2
}
