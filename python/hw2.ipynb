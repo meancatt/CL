{
 "cells": [
  {
   "cell_type": "code",
   "execution_count": 3,
   "metadata": {},
   "outputs": [
    {
     "name": "stdout",
     "output_type": "stream",
     "text": [
      "это не делится на 5, продолжим поиск\n",
      "это не делится на 5, продолжим поиск\n",
      "это не делится на 5, продолжим поиск\n",
      "попалось 45, игнорируем\n",
      "это не делится на 5, продолжим поиск\n",
      "это не делится на 5, продолжим поиск\n",
      "это не делится на 5, продолжим поиск\n",
      "35 делится на 5\n"
     ]
    }
   ],
   "source": [
    "# hard mode\n",
    "\n",
    "# задача 1\n",
    "\n",
    "numbers = [2,6,7,45,1,89,678,35]\n",
    "for number in numbers:\n",
    "    if number != 45:\n",
    "        if number%5 == 0:\n",
    "            print(number, 'делится на 5')\n",
    "            break\n",
    "        else:\n",
    "            print('это не делится на 5, продолжим поиск')\n",
    "    else:\n",
    "        print('попалось 45, игнорируем')"
   ]
  },
  {
   "cell_type": "code",
   "execution_count": 4,
   "metadata": {},
   "outputs": [
    {
     "name": "stdout",
     "output_type": "stream",
     "text": [
      "Сегодня в вашем коктейле будет: красный вермут, тоник, апельсины и никакого лосося!\n"
     ]
    }
   ],
   "source": [
    "# задача 2\n",
    "\n",
    "import random\n",
    "\n",
    "cocktails = [[\"мартини\",\"грейпфрутовый сок\",\"жасмин\",\"тоник\",\"лосось\"],\n",
    "               [\"клубника\",\"какао\",\"мята\",\"марсала\"],\n",
    "               [\"водка\",\"томатный сок\",\"лимонный сок\",\"вустерширский соус\",\"черный перец\",\"сельдерей\",\"лосось\"],\n",
    "               [\"джин\",\"вермут\",\"ликер мараскино\",\"апельсины\",\"коктейльная вишня\",\"лосось\"],\n",
    "               [\"ром\",\"авокадо\",\"сахарный сироп\",\"сливки\",\"лимонный сок\",\"лед\"],\n",
    "               [\"красный вермут\",\"тоник\",\"апельсины\",\"лосось\"],\n",
    "               [\"только чай\"]\n",
    "        ]\n",
    "\n",
    "no_salmon_cocktails = [[ingredient for ingredient in cocktail if ingredient!='лосось'] for cocktail in cocktails]\n",
    "random_cocktail = random.choice(no_salmon_cocktails)\n",
    "ingredients = ', '.join(random_cocktail)\n",
    "print('Сегодня в вашем коктейле будет:', ingredients, 'и никакого лосося!')"
   ]
  }
 ],
 "metadata": {
  "kernelspec": {
   "display_name": "Python 3",
   "language": "python",
   "name": "python3"
  },
  "language_info": {
   "codemirror_mode": {
    "name": "ipython",
    "version": 3
   },
   "file_extension": ".py",
   "mimetype": "text/x-python",
   "name": "python",
   "nbconvert_exporter": "python",
   "pygments_lexer": "ipython3",
   "version": "3.7.0"
  }
 },
 "nbformat": 4,
 "nbformat_minor": 2
}
