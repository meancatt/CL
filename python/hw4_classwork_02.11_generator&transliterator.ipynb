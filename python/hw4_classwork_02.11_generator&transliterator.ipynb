{
 "cells": [
  {
   "cell_type": "code",
   "execution_count": 1,
   "metadata": {},
   "outputs": [],
   "source": [
    "import random"
   ]
  },
  {
   "cell_type": "code",
   "execution_count": 2,
   "metadata": {},
   "outputs": [
    {
     "name": "stdout",
     "output_type": "stream",
     "text": [
      "фармцементметалнефтьмос\n"
     ]
    }
   ],
   "source": [
    "# Генератор названий компаний\n",
    "\n",
    "names = [\"пром\",\"агро\",\"торг\",\"урал\",\"север\",\"юг\",\"техно\",\n",
    "\"экспо\",\"метал\",\"нефть\",\"сельхоз\",\"фарм\",\"строй\",\n",
    "\"кредит\",\"алмаз\",\"-девелопмент\",\"развитие\",\"мос\",\n",
    "\"рос\",\"кубань\",\"сибирь\",\"восток\",\"нано\",\"софт\",\n",
    "\"микро\",\"онлайн\",\"инвест\",\"текстиль\",\"цемент\"]\n",
    "\n",
    "company = ''\n",
    "for i in range(6):\n",
    "    new_root = random.choice(names)\n",
    "    if new_root not in company: # чтобы слова не повторялись\n",
    "        company += random.choice(names)\n",
    "\n",
    "print(company) "
   ]
  },
  {
   "cell_type": "code",
   "execution_count": 3,
   "metadata": {},
   "outputs": [],
   "source": [
    "# Транслитератор\n",
    "\n",
    "text = '3 июня в России прошёл ЕГЭ по русскому языку. Традиционно письменная часть состояла из сочинения-рассуждения по предложенному тексту. В нескольких регионах школьникам попался отрывок из повести Виктора Драгунского «Он упал на траву», в почти каждом предложении которого упоминаются лопаты. Выпускники из Самарской области удивились неоднозначному тексту, предложенному для анализа, и создали сообщество во «ВКонтакте» «Мемы про лопату», где начали шутить о лопатах, ЕГЭ и армии. \\n\\nЧто бы я ни делал, в голове моей мерно взлетали лопаты. Лопаты. Лопаты. Лопаты. Они погружались в мягкую глинистую почву, сочно чавкающую под режущим лезвием. Они отрывали комья, цепляющиеся за родной пласт, они несли на себе землю, эти непрерывно движущиеся лопаты, они качали землю в своих железных ладонях, баюкали её или резали аккуратными ломтями. Лопаты шлепали по земле, били по ней, дробили её, поглаживали, рубили и терзали, заравнивали и подскребывали её каменистое чрево. И мы держались за эти лопаты, это было наше единственное орудие и оружие, и всё-таки, что там ни говори, а мы отрыли этими лопатами такие красивые, ровные и неприступные ни для какого танка рвы, что сердца наши наполнялись гордостью. Эти лопаты, любовь к ним и ненависть крепко сплотили нас, лопатных героев, в одну семью.'"
   ]
  },
  {
   "cell_type": "code",
   "execution_count": 4,
   "metadata": {},
   "outputs": [],
   "source": [
    "def ru_to_lat(string):\n",
    "    \n",
    "    alpha_ru = 'абвгдеёжзийклмнопрстуфхцчшщъыьэюя«»'\n",
    "    alpha_ru += alpha_ru.upper()\n",
    "    alpha_ru = list(alpha_ru)\n",
    "    \n",
    "    alpha_lat = 'a b v g d e yo zh z i j k l m n o p r s t u f kh cz ch sh shh `` y ` e yu ya \" \" '\n",
    "    alpha_lat += alpha_lat.upper()\n",
    "    alpha_lat = alpha_lat.split()\n",
    "    \n",
    "    translit_dict = dict(zip(alpha_ru, alpha_lat))\n",
    "                         \n",
    "    for ru_symbol, lat_symbol in translit_dict.items():\n",
    "        string = string.replace(ru_symbol, lat_symbol)\n",
    "    return string"
   ]
  },
  {
   "cell_type": "code",
   "execution_count": 5,
   "metadata": {},
   "outputs": [
    {
     "name": "stdout",
     "output_type": "stream",
     "text": [
      "3 iyunya v Rossii proshyol EGE po russkomu yazyku. Tradiczionno pis`mennaya chast` sostoyala iz sochineniya-rassuzhdeniya po predlozhennomu tekstu. V neskol`kikh regionakh shkol`nikam popalsya otryvok iz povesti Viktora Dragunskogo \"On upal na travu\", v pochti kazhdom predlozhenii kotorogo upominayutsya lopaty. Vypuskniki iz Samarskoj oblasti udivilis` neodnoznachnomu tekstu, predlozhennomu dlya analiza, i sozdali soobshhestvo vo \"VKontakte\" \"Memy pro lopatu\", gde nachali shutit` o lopatakh, EGE i armii. \n",
      "\n",
      "CHto by ya ni delal, v golove moej merno vzletali lopaty. Lopaty. Lopaty. Lopaty. Oni pogruzhalis` v myagkuyu glinistuyu pochvu, sochno chavkayushhuyu pod rezhushhim lezviem. Oni otryvali kom`ya, czeplyayushhiesya za rodnoj plast, oni nesli na sebe zemlyu, eti nepreryvno dvizhushhiesya lopaty, oni kachali zemlyu v svoikh zheleznykh ladonyakh, bayukali eyo ili rezali akkuratnymi lomtyami. Lopaty shlepali po zemle, bili po nej, drobili eyo, poglazhivali, rubili i terzali, zaravnivali i podskrebyvali eyo kamenistoe chrevo. I my derzhalis` za eti lopaty, eto bylo nashe edinstvennoe orudie i oruzhie, i vsyo-taki, chto tam ni govori, a my otryli etimi lopatami takie krasivye, rovnye i nepristupnye ni dlya kakogo tanka rvy, chto serdcza nashi napolnyalis` gordost`yu. Eti lopaty, lyubov` k nim i nenavist` krepko splotili nas, lopatnykh geroev, v odnu sem`yu.\n"
     ]
    }
   ],
   "source": [
    "print(ru_to_lat(text))"
   ]
  }
 ],
 "metadata": {
  "kernelspec": {
   "display_name": "Python 3",
   "language": "python",
   "name": "python3"
  },
  "language_info": {
   "codemirror_mode": {
    "name": "ipython",
    "version": 3
   },
   "file_extension": ".py",
   "mimetype": "text/x-python",
   "name": "python",
   "nbconvert_exporter": "python",
   "pygments_lexer": "ipython3",
   "version": "3.7.0"
  }
 },
 "nbformat": 4,
 "nbformat_minor": 2
}
