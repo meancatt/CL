{
 "cells": [
  {
   "cell_type": "code",
   "execution_count": 1,
   "metadata": {},
   "outputs": [],
   "source": [
    "import os\n",
    "import string"
   ]
  },
  {
   "cell_type": "code",
   "execution_count": 2,
   "metadata": {},
   "outputs": [],
   "source": [
    "with open('city_smells.txt', 'r', encoding='utf-8') as f:\n",
    "    city_smells = f.read()"
   ]
  },
  {
   "cell_type": "code",
   "execution_count": 3,
   "metadata": {},
   "outputs": [],
   "source": [
    "def rm_extra_spaces(string):\n",
    "    return ' '.join([word for word in string.split() if word!=' ']) "
   ]
  },
  {
   "cell_type": "code",
   "execution_count": 4,
   "metadata": {},
   "outputs": [],
   "source": [
    "city_smells = city_smells.replace('\\n', ' ')\n",
    "city_smells_preproc = city_smells.lower()\n",
    "city_smells_preproc = ''.join([symbol for symbol in list(city_smells_preproc) if symbol.isalpha() or symbol.isspace()]) \n",
    "city_smells_preproc = rm_extra_spaces(city_smells_preproc) # rm extra spaces"
   ]
  },
  {
   "cell_type": "code",
   "execution_count": 5,
   "metadata": {},
   "outputs": [
    {
     "name": "stdout",
     "output_type": "stream",
     "text": [
      "Средняя длина слова в тексте - 6\n",
      "Самое короткое слово (символов - 1) в 17 раз короче самого длинного (символов - 17)\n",
      "Среднее число слов в предложении - 18\n",
      "Самое короткое предложение (слов - 4) в 12 раз короче самого длинного (слов - 48)\n",
      "Среднее число знаков пунктуации в предложении - 3\n"
     ]
    }
   ],
   "source": [
    "# average word length\n",
    "words = city_smells_preproc.split()\n",
    "lengths = [len(word) for word in words]\n",
    "print('Средняя длина слова в тексте -', sum(lengths)//len(lengths))\n",
    "\n",
    "\n",
    "# shortest and longest word\n",
    "shortest = min(lengths)\n",
    "longest = max(lengths)\n",
    "print('Самое короткое слово (символов - {}) в {} раз короче самого длинного (символов - {})'\n",
    "      .format(shortest, longest//shortest, longest))\n",
    "\n",
    "\n",
    "# average sentence length + count punctuation in sentences\n",
    "city_smells = city_smells.replace('!', '.').replace('?', '.').replace('...', '.') # so that sentence always ends with '.' \n",
    "city_smells = rm_extra_spaces(city_smells) # rm extra spaces\n",
    "sentences = city_smells.split('. ') # split text into sentences\n",
    "\n",
    "lengths = [] \n",
    "num_punctuation = []\n",
    "for sentence in sentences:\n",
    "    \n",
    "    # count punctuation\n",
    "    p = 0\n",
    "    for symbol in sentence: \n",
    "        all_punctuation = string.punctuation + '—'\n",
    "        if symbol in all_punctuation:\n",
    "            p += 1\n",
    "    num_punctuation.append(p + 1) # including the final '.'\n",
    "    \n",
    "    # preprocess sentence and count its length\n",
    "    sentence = ''.join([symbol for symbol in list(sentence) \n",
    "                        if symbol.isalnum() and symbol not in ['-', '/']\n",
    "                        or symbol.isspace()]) # rm punctuation but keep '-' & '/' (for words like 'Нью-Йорк' & 'выбросы/выхлопы')\n",
    "    sentence = sentence.replace('/', ' ') # for words like 'выбросы/выхлопы'\n",
    "    sentence = rm_extra_spaces(sentence)\n",
    "    lengths.append(len(sentence.split()))\n",
    "    \n",
    "shortest = min(lengths)\n",
    "longest = max(lengths)\n",
    "\n",
    "print('Среднее число слов в предложении -', sum(lengths)//len(lengths))\n",
    "print('Самое короткое предложение (слов - {}) в {} раз короче самого длинного (слов - {})'\n",
    "      .format(shortest, longest//shortest, longest))\n",
    "print('Среднее число знаков пунктуации в предложении -', sum(num_punctuation)//len(num_punctuation))"
   ]
  }
 ],
 "metadata": {
  "kernelspec": {
   "display_name": "Python 3",
   "language": "python",
   "name": "python3"
  },
  "language_info": {
   "codemirror_mode": {
    "name": "ipython",
    "version": 3
   },
   "file_extension": ".py",
   "mimetype": "text/x-python",
   "name": "python",
   "nbconvert_exporter": "python",
   "pygments_lexer": "ipython3",
   "version": "3.7.0"
  }
 },
 "nbformat": 4,
 "nbformat_minor": 2
}
